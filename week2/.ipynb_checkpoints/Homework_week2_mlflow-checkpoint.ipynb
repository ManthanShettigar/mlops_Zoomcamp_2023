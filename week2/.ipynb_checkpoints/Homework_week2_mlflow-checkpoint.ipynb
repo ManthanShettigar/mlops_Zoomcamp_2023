{
 "cells": [
  {
   "cell_type": "markdown",
   "id": "7ee66391",
   "metadata": {},
   "source": [
    "## Q1. Install the package\n",
    "To get started with MLflow you'll need to install the appropriate Python package.\n",
    "\n",
    "For this we recommend creating a separate Python environment, for example, you can use conda environments, and then install the package there with pip or conda.\n",
    "\n",
    "Once you installed the package, run the command mlflow --version and check the output.\n",
    "\n",
    "What's the version that you have?"
   ]
  },
  {
   "cell_type": "markdown",
   "id": "dafa8049",
   "metadata": {},
   "source": [
    "![image](screenshots_soln/q1.png)"
   ]
  },
  {
   "cell_type": "markdown",
   "id": "a5639469",
   "metadata": {},
   "source": [
    "## Q2. Download and preprocess the data\n",
    "We'll use the Green Taxi Trip Records dataset to predict the amount of tips for each trip.\n",
    "\n",
    "Download the data for January, February and March 2022 in parquet format from here.\n",
    "\n",
    "Use the script preprocess_data.py located in the folder homework to preprocess the data.\n",
    "\n",
    "The script will:\n",
    "\n",
    "load the data from the folder <TAXI_DATA_FOLDER> (the folder where you have downloaded the data),\n",
    "fit a DictVectorizer on the training set (January 2022 data),\n",
    "save the preprocessed datasets and the DictVectorizer to disk.\n",
    "Your task is to download the datasets and then execute this command:\n",
    "\n",
    "`python preprocess_data.py --raw_data_path <TAXI_DATA_FOLDER> --dest_path ./output`\n",
    "Tip: go to 02-experiment-tracking/homework/ folder before executing the command and change the value of <TAXI_DATA_FOLDER> to the location where you saved the data.\n",
    "\n",
    "So what's the size of the saved DictVectorizer file?\n",
    "\n",
    "- 54 kB\n",
    "- 154 kB\n",
    "- 54 MB\n",
    "- 154 MB "
   ]
  },
  {
   "cell_type": "markdown",
   "id": "dd94396f",
   "metadata": {},
   "source": [
    "![image](screenshots_soln/q2_preprocess_terminal.png)"
   ]
  },
  {
   "cell_type": "markdown",
   "id": "01ca2409",
   "metadata": {},
   "source": [
    "![image](screenshots_soln/q2_dictvectorizer__size.png)"
   ]
  },
  {
   "cell_type": "markdown",
   "id": "b411df83",
   "metadata": {},
   "source": [
    "## Q3. Train a model with autolog\n",
    "We will train a RandomForestRegressor (from Scikit-Learn) on the taxi dataset.\n",
    "\n",
    "We have prepared the training script train.py for this exercise, which can be also found in the folder homework.\n",
    "\n",
    "The script will:\n",
    "\n",
    "load the datasets produced by the previous step,\n",
    "train the model on the training set,\n",
    "calculate the RMSE score on the validation set.\n",
    "Your task is to modify the script to enable autologging with MLflow, execute the script and then launch the MLflow UI to check that the experiment run was properly tracked.\n",
    "\n",
    "Tip 1: don't forget to wrap the training code with a `with mlflow.start_run():` statement as we showed in the videos.\n",
    "\n",
    "Tip 2: don't modify the hyperparameters of the model to make sure that the training will finish quickly.\n",
    "\n",
    "What is the value of the max_depth parameter:\n",
    "\n",
    "- 4\n",
    "- 6\n",
    "- 8\n",
    "- 10"
   ]
  },
  {
   "cell_type": "markdown",
   "id": "b5eb1c4d",
   "metadata": {},
   "source": [
    "### Code changes in train.py\n",
    "\n",
    "![image](screenshots_soln/q3_code_changes_mlflow.png)"
   ]
  },
  {
   "cell_type": "markdown",
   "id": "7c4baa96",
   "metadata": {},
   "source": [
    "![image](screenshots_soln/q3_soln_maxdepth.png)"
   ]
  },
  {
   "cell_type": "markdown",
   "id": "fddbcdd8",
   "metadata": {},
   "source": [
    "## Launch the tracking server locally for MLflow\n",
    "Now we want to manage the entire lifecycle of our ML model. In this step, you'll need to launch a tracking server. This way we will also have access to the model registry.\n",
    "\n",
    "In case of MLflow, you need to:\n",
    "\n",
    "launch the tracking server on your local machine,\n",
    "select a SQLite db for the backend store and a folder called artifacts for the artifacts store.\n",
    "You should keep the tracking server running to work on the next three exercises that use the server."
   ]
  },
  {
   "cell_type": "markdown",
   "id": "15887d7b",
   "metadata": {},
   "source": [
    "![image](screenshots_soln/backend_server_with_artifacts.png)"
   ]
  },
  {
   "cell_type": "markdown",
   "id": "e6fdfa9e",
   "metadata": {},
   "source": [
    "## Q4. Tune model hyperparameters\n",
    "Now let's try to reduce the validation error by tuning the hyperparameters of the `RandomForestRegressor` using optuna. We have prepared the script hpo.py for this exercise.\n",
    "\n",
    "Your task is to modify the script hpo.py and make sure that the validation RMSE is logged to the tracking server for each run of the hyperparameter optimization (you will need to add a few lines of code to the objective function) and run the script without passing any parameters.\n",
    "\n",
    "After that, open UI and explore the runs from the experiment called random-forest-hyperopt to answer the question below.\n",
    "\n",
    "Note: Don't use autologging for this exercise.\n",
    "\n",
    "The idea is to just log the information that you need to answer the question below, including:\n",
    "\n",
    "the list of hyperparameters that are passed to the objective function during the optimization,\n",
    "the RMSE obtained on the validation set (February 2022 data).\n",
    "What's the best validation RMSE that you got?\n",
    "\n",
    "- 1.85\n",
    "- 2.15\n",
    "- 2.45\n",
    "- 2.85"
   ]
  },
  {
   "cell_type": "markdown",
   "id": "5019832e",
   "metadata": {},
   "source": [
    "### code changes in hpo.py\n",
    "![image](screenshots_soln/q4_hpo_code_changes.png)"
   ]
  },
  {
   "cell_type": "markdown",
   "id": "5cd18447",
   "metadata": {},
   "source": [
    "![image](screenshots_soln/q4_soln_rmse.png)"
   ]
  },
  {
   "cell_type": "markdown",
   "id": "fa054b59",
   "metadata": {},
   "source": [
    "## Q5. Promote the best model to the model registry\n",
    "The results from the hyperparameter optimization are quite good. So, we can assume that we are ready to test some of these models in production. In this exercise, you'll promote the best model to the model registry. We have prepared a script called register_model.py, which will check the results from the previous step and select the top 5 runs. After that, it will calculate the RMSE of those models on the test set (March 2022 data) and save the results to a new experiment called `random-forest-best-models`.\n",
    "\n",
    "Your task is to update the script `register_model.py` so that it selects the model with the lowest RMSE on the test set and registers it to the model registry.\n",
    "\n",
    "Tips for MLflow:\n",
    "\n",
    "you can use the method `search_runs` from the `MlflowClient` to get the model with the lowest RMSE,\n",
    "to register the model you can use the method `mlflow.register_model` and you will need to pass the right model_uri in the form of a string that looks like this: `\"runs:/<RUN_ID>/model\"`, and the name of the model (make sure to choose a good one!).\n",
    "What is the test RMSE of the best model?\n",
    "\n",
    "- 1.885\n",
    "- 2.185\n",
    "- 2.555\n",
    "- 2.955\n"
   ]
  },
  {
   "cell_type": "markdown",
   "id": "8ed8a9bc",
   "metadata": {},
   "source": [
    "![image](screenshots_soln/q5_code_Changes_registermodel.png)"
   ]
  },
  {
   "cell_type": "markdown",
   "id": "ff885205",
   "metadata": {},
   "source": [
    "![image](screenshots_soln/q5_soln_ss.png)"
   ]
  },
  {
   "cell_type": "markdown",
   "id": "9cabc4d9",
   "metadata": {},
   "source": [
    "## Q6. Model metadata\n",
    "Now explore your best model in the model registry using UI. What information does the model registry contain about each model?\n",
    "\n",
    "-    Version number\n",
    "-    Source experiment\n",
    "-    Model signature\n",
    "-    ###### All the above answers are correct\n"
   ]
  },
  {
   "cell_type": "markdown",
   "id": "e9592e6c",
   "metadata": {},
   "source": [
    "![image](screenshots_soln/q6_soln.png)"
   ]
  },
  {
   "cell_type": "code",
   "execution_count": null,
   "id": "6e83154a",
   "metadata": {},
   "outputs": [],
   "source": []
  }
 ],
 "metadata": {
  "kernelspec": {
   "display_name": "Python 3 (ipykernel)",
   "language": "python",
   "name": "python3"
  },
  "language_info": {
   "codemirror_mode": {
    "name": "ipython",
    "version": 3
   },
   "file_extension": ".py",
   "mimetype": "text/x-python",
   "name": "python",
   "nbconvert_exporter": "python",
   "pygments_lexer": "ipython3",
   "version": "3.11.3"
  }
 },
 "nbformat": 4,
 "nbformat_minor": 5
}
